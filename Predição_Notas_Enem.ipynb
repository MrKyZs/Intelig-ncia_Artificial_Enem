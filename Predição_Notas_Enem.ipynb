{
  "cells": [
    {
      "cell_type": "markdown",
      "metadata": {
        "id": "ynXTOigU_iRM"
      },
      "source": [
        "# **Inicialização do Dataset**"
      ]
    },
    {
      "cell_type": "code",
      "execution_count": 3,
      "metadata": {
        "id": "Pu353Kkpbmyk"
      },
      "outputs": [],
      "source": [
        "import pandas as pd\n",
        "import numpy as np"
      ]
    },
    {
      "cell_type": "code",
      "source": [
        "df_enem = pd.read_csv(\"path_to_dataset\")"
      ],
      "metadata": {
        "id": "uQkVbYZ_c8lH"
      },
      "execution_count": 4,
      "outputs": []
    },
    {
      "cell_type": "markdown",
      "source": [
        "# **Geração HTML**"
      ],
      "metadata": {
        "id": "OLpKMI0Uge8T"
      }
    },
    {
      "cell_type": "code",
      "execution_count": null,
      "metadata": {
        "id": "PBFImSOKm7Dg"
      },
      "outputs": [],
      "source": [
        "!pip install sweetviz"
      ]
    },
    {
      "cell_type": "code",
      "source": [
        "!pip install pandas-profiling"
      ],
      "metadata": {
        "id": "3WTOcHd9geHL"
      },
      "execution_count": null,
      "outputs": []
    },
    {
      "cell_type": "code",
      "source": [
        "import sweetviz as sv\n",
        "import pandas_profiling as pf"
      ],
      "metadata": {
        "id": "p0B4R6WPg24L"
      },
      "execution_count": null,
      "outputs": []
    },
    {
      "cell_type": "code",
      "source": [
        "df_enem['TP_ENSINO'] = df_enem['TP_ENSINO'].astype(str)\n",
        "analise_after = sv.analyze(df_enem)\n",
        "analise_after.show_html(\"analisesweet.html\")"
      ],
      "metadata": {
        "id": "xlK81zZhgrEx"
      },
      "execution_count": null,
      "outputs": []
    },
    {
      "cell_type": "code",
      "source": [
        "profile = pf.ProfileReport(df_enem)\n",
        "profile.to_file('analiseprofilling.html')"
      ],
      "metadata": {
        "id": "ySk5TmqDgrva"
      },
      "execution_count": null,
      "outputs": []
    },
    {
      "cell_type": "markdown",
      "metadata": {
        "id": "P77j1_nuMLM0"
      },
      "source": [
        "# **Tratamento de Dados / Feature Engineering**\n",
        "\n",
        "\n"
      ]
    },
    {
      "cell_type": "code",
      "source": [
        "df_enem"
      ],
      "metadata": {
        "id": "FTJ7Lteho_r6"
      },
      "execution_count": null,
      "outputs": []
    },
    {
      "cell_type": "code",
      "source": [
        "def regiao_sex_drop(df):\n",
        "    sex_dict = {\n",
        "        'F': 1,\n",
        "        'M': 2,\n",
        "    }\n",
        "\n",
        "    #POR REGIÃO\n",
        "    co_uf_diff = {\n",
        "        11: 1, #Rondonia / NORTE\n",
        "        12: 1, #Acre / NORTE\n",
        "        13: 1, #Amazonas / NORTE\n",
        "        14: 1, #Roraima / NORTE\n",
        "        15: 1, #Pará / NORTE\n",
        "        16: 1, #Amapá / NORTE\n",
        "        17: 1, #Tocantins / NORTE\n",
        "        21: 2, #Maranhão / NORDESTE\n",
        "        22: 2, #Piaui / NORDESTE\n",
        "        23: 2, #Ceará / NORDESTE\n",
        "        24: 2, #Rio grande do norte / NORDESTE\n",
        "        25: 2, #Paraiba / NORDESTE\n",
        "        26: 2, #Pernambuco / NORDESTE\n",
        "        27: 2, #Alagoas / NORDESTE\n",
        "        28: 2, #Sergipe / NORDESTE\n",
        "        29: 2, #Bahia / NORDESTE\n",
        "        31: 3, #Minas Gerais / SUDESTE\n",
        "        32: 3, #Espirito Santo / SUDESTE\n",
        "        33: 3, #Rio de Janeiro / SUDESTE\n",
        "        35: 3, #São Paulo  / SUDESTE\n",
        "        41: 4, #Paraná / SUL\n",
        "        42: 4, #Santa Catarina / SUL\n",
        "        43: 4, #Rio grande do sul / SUL\n",
        "        50: 5, #Mato Grosso do Sul / CENTRO-OESTE\n",
        "        51: 5, #Mato Grosso / CENTRO-OESTE\n",
        "        52: 5, #Goias / CENTRO-OESTE\n",
        "        53: 5, #Distrito Federal / CENTRO-OESTE\n",
        "    }\n",
        "\n",
        "    \"\"\"\n",
        "    #POR IDH\n",
        "    co_uf_diff = {\n",
        "        11: 2, #Rondonia / Médio desenvolvimento\n",
        "        12: 2, #Acre / Médio desenvolvimento\n",
        "        13: 2, #Amazonas / Médio desenvolvimento\n",
        "        14: 1, #Roraima / Baixo desenvolvimento\n",
        "        15: 2, #Pará / Médio desenvolvimento\n",
        "        16: 2, #Amapá / Médio desenvolvimento\n",
        "        17: 2, #Tocantins / Médio desenvolvimento\n",
        "        21: 1, #Maranhão / Baixo desenvolvimento\n",
        "        22: 1, #Piauí / Baixo desenvolvimento\n",
        "        23: 1, #Ceará / Baixo desenvolvimento\n",
        "        24: 1, #Rio grande do norte / Baixo desenvolvimento\n",
        "        25: 1, #Paraiba / Baixo desenvolvimento\n",
        "        26: 1, #Pernambuco / Baixo desenvolvimento\n",
        "        27: 1, #Alagoas / Baixo desenvolvimento\n",
        "        28: 1, #Sergipe / Baixo desenvolvimento\n",
        "        29: 1, #Bahia / Baixo desenvolvimento\n",
        "        31: 4, #Minas Gerais / Alto desenvolvimento\n",
        "        32: 4, #Espirito Santo / Alto desenvolvimento\n",
        "        33: 4, #Rio de Janeiro / Alto desenvolvimento\n",
        "        35: 4, #São Paulo / Alto desenvolvimento\n",
        "        41: 4, #Paraná / Alto desenvolvimento\n",
        "        42: 4, #Santa Catarina / Alto desenvolvimento\n",
        "        43: 4, #Rio grande do sul / Alto desenvolvimento\n",
        "        50: 4, #Mato Grosso do Sul / Alto desenvolvimento\n",
        "        51: 4, #Mato Grosso / Alto desenvolvimento\n",
        "        52: 4, #Goias / Alto desenvolvimento\n",
        "        53: 4, #Distrito Federal / Alto desenvolvimento\n",
        "    }\n",
        "    \"\"\"\n",
        "\n",
        "\n",
        "    q006_dict = {\n",
        "\n",
        "        #1 -> 0 - 1.908,00\n",
        "        #2 -> 1.908,01 - 4.770,00\n",
        "        #3 -> 4.770,01 - 8.586,00\n",
        "        #4 -> 8.586,01 -\n",
        "\n",
        "        'A':1,\n",
        "        'B':1,\n",
        "        'C':1,\n",
        "        'D':2,\n",
        "        'E':2,\n",
        "        'F':2,\n",
        "        'G':2,\n",
        "        'H':2,\n",
        "        'I':3,\n",
        "        'J':3,\n",
        "        'K':3,\n",
        "        'L':3,\n",
        "        'M':4,\n",
        "        'N':4,\n",
        "        'O':4,\n",
        "        'P':4,\n",
        "        'Q':4,\n",
        "    }\n",
        "\n",
        "    '''\n",
        "        faixa_et_dict = {\n",
        "        1: 1,\n",
        "        2: 1,\n",
        "        3: 1,\n",
        "        4: 1,\n",
        "        5: 1,\n",
        "        6: 1,\n",
        "        7: 1,\n",
        "        8: 1,\n",
        "        9: 1,\n",
        "        10: 1,\n",
        "        11: 2,\n",
        "        12: 2,\n",
        "        13: 2,\n",
        "        14: 2,\n",
        "        15: 2,\n",
        "        16: 2,\n",
        "        17: 2,\n",
        "        18: 2,\n",
        "        19: 2,\n",
        "        20: 2,\n",
        "    }\n",
        "    '''\n",
        "\n",
        "\n",
        "    df['Q006'] = df['Q006'].replace(q006_dict)\n",
        "    df['TP_SEXO'] = df['TP_SEXO'].replace(sex_dict)\n",
        "    df['CO_UF_ESC'] = df['CO_UF_ESC'].replace(co_uf_diff)\n",
        "    #df['TP_FAIXA_ETARIA'] = df['TP_FAIXA_ETARIA'].replace(faixa_et_dict)\n",
        "\n",
        "    df= df.drop_duplicates()\n",
        "\n",
        "    return df"
      ],
      "metadata": {
        "id": "a-IvQ248hezH"
      },
      "execution_count": 6,
      "outputs": []
    },
    {
      "cell_type": "code",
      "source": [
        "#Categoriza Notas\n",
        "def cat_notas(df):\n",
        "    notas_cat = {\n",
        "        1: (0.0, 500.0),\n",
        "        2: (500.1, 1000.0)\n",
        "    }\n",
        "\n",
        "    colunas = ['NU_NOTA_MT', 'NU_NOTA_CN', 'NU_NOTA_CH', 'NU_NOTA_LC', 'NU_NOTA_REDACAO']\n",
        "\n",
        "    for coluna in colunas:\n",
        "        notas_col = {}\n",
        "        for nota in df[coluna]:\n",
        "            for categoria, (menor, maior) in notas_cat.items():\n",
        "                if menor <= nota <= maior:\n",
        "                    notas_col[nota] = categoria\n",
        "                    break\n",
        "        df[f'{coluna}_CAT'] = df[coluna].map(notas_col)\n",
        "\n",
        "    return df"
      ],
      "metadata": {
        "id": "ifeMepZWcw4h"
      },
      "execution_count": 7,
      "outputs": []
    },
    {
      "cell_type": "code",
      "source": [
        "#Feature Engineering\n",
        "def geraColunaMedia(df_enem):\n",
        "    df_enem['média'] = df_enem[['NU_NOTA_MT', 'NU_NOTA_CN', 'NU_NOTA_CH', 'NU_NOTA_LC', 'NU_NOTA_REDACAO']].mean(axis=1)\n",
        "    return df_enem"
      ],
      "metadata": {
        "id": "yMfV4jhZzY8K"
      },
      "execution_count": 8,
      "outputs": []
    },
    {
      "cell_type": "code",
      "source": [
        "def get_X_y(df_enem):\n",
        "    df_enem = geraColunaMedia(df_enem)\n",
        "    colunas_remover = ['NU_NOTA_MT', 'NU_NOTA_CN', 'NU_NOTA_CH', 'NU_NOTA_LC', 'NU_NOTA_REDACAO', 'TP_COR_RACA', 'NU_NOTA_LC_CAT', 'NU_NOTA_CH_CAT', 'NU_NOTA_REDACAO_CAT', 'NU_NOTA_MT_CAT', 'NU_NOTA_CN_CAT']\n",
        "    coluna_alvo = ['NU_NOTA_LC_CAT']  # NU_NOTA_LC_CAT, NU_NOTA_CN_CAT, NU_NOTA_CH_CAT, NU_NOTA_REDACAO_CAT ou NU_NOTA_MT_CAT\n",
        "    X = df_enem.drop(colunas_remover + coluna_alvo , axis=1)\n",
        "    y = df_enem[coluna_alvo]\n",
        "    return X, y"
      ],
      "metadata": {
        "id": "1nzVdBGgWBxU"
      },
      "execution_count": 9,
      "outputs": []
    },
    {
      "cell_type": "code",
      "source": [
        "df_enem = regiao_sex_drop(df_enem)\n",
        "df_enem = cat_notas(df_enem)\n",
        "\n",
        "#df_enem = df_enem.drop(df_enem.loc[df_enem['CO_UF_ESC'] != 3].index)\n",
        "#df_enem.drop(['CO_UF_ESC'], axis=1, inplace=True)"
      ],
      "metadata": {
        "id": "4FEtGgtbGDCz"
      },
      "execution_count": null,
      "outputs": []
    },
    {
      "cell_type": "markdown",
      "source": [
        "# **REDE NEURAL**"
      ],
      "metadata": {
        "id": "Jo6xmQmWWKl2"
      }
    },
    {
      "cell_type": "code",
      "source": [
        "import tensorflow as tf\n",
        "from sklearn.model_selection import train_test_split\n",
        "from sklearn.preprocessing import StandardScaler\n",
        "from keras.utils import to_categorical"
      ],
      "metadata": {
        "id": "1D20XB1YWKFf"
      },
      "execution_count": 11,
      "outputs": []
    },
    {
      "cell_type": "code",
      "source": [
        "#Pega e separa o dataset já categorizado em X e Y, onde X são todas as colunas e Y só tem a coluna alvo\n",
        "X, y = get_X_y(df_enem)\n",
        "\n",
        "#Separa em df de teste e treinamento\n",
        "X_train, X_test, y_train, y_test = train_test_split(X, y, test_size=0.25, random_state=42)\n",
        "\n",
        "#Padroniza os valores das variaveis de entrada. Assim elas ficam com média zero e desvio padrao = 1\n",
        "#Ajuda no treinamento e desempenho da NN\n",
        "scaler = StandardScaler()\n",
        "X_train = scaler.fit_transform(X_train)\n",
        "X_test = scaler.transform(X_test)\n",
        "\n",
        "y_train= to_categorical(y_train - 1, num_classes=2)\n",
        "y_test = to_categorical(y_test - 1, num_classes=2)\n",
        "#Como eu classifiquei com 1 e 2, ele transforma em 0 e 1, fazendo 1 ficar [1, 0] e 2 fica [0, 1] --> [0.7, 0.3]"
      ],
      "metadata": {
        "id": "5G-idw-OWPjJ"
      },
      "execution_count": null,
      "outputs": []
    },
    {
      "cell_type": "code",
      "source": [
        "model = tf.keras.Sequential()\n",
        "model.add(tf.keras.layers.Dense(508, activation='relu', input_shape=(X_train.shape[1],)))\n",
        "model.add(tf.keras.layers.Dropout(0.3))\n",
        "model.add(tf.keras.layers.Dense(254, activation='relu'))\n",
        "model.add(tf.keras.layers.Dropout(0.3))\n",
        "model.add(tf.keras.layers.Dense(2, activation='sigmoid'))\n",
        "\n",
        "model.compile(optimizer='adam', loss='categorical_crossentropy', metrics=['AUC', 'accuracy'])"
      ],
      "metadata": {
        "id": "p2Zx50ZNm0Fu"
      },
      "execution_count": 13,
      "outputs": []
    },
    {
      "cell_type": "code",
      "source": [
        "hist = model.fit(X_train, y_train, epochs=5, batch_size=1024, validation_data=(X_test, y_test))"
      ],
      "metadata": {
        "id": "TvtkNgXKWStK"
      },
      "execution_count": null,
      "outputs": []
    },
    {
      "cell_type": "code",
      "source": [
        "accuracy = model.evaluate(X_test, y_test)\n",
        "print(' ')\n",
        "train_acc = hist.history['accuracy']\n",
        "avg_train_acc = np.mean(train_acc)\n",
        "print('Average Train Accuracy:', avg_train_acc)\n",
        "print(' ')\n",
        "print('Accuracy:', accuracy[2])"
      ],
      "metadata": {
        "id": "hb7vGqwIAefU"
      },
      "execution_count": null,
      "outputs": []
    },
    {
      "cell_type": "code",
      "source": [
        "y_pred = model.predict(X_test)\n",
        "y_test_idx = np.argmax(y_test, axis=1)\n",
        "y_pred_idx = np.argmax(y_pred, axis=1)\n",
        "\n",
        "#Aqui como eu transformei o 1 e 2 em 0 e 1, eu preciso fazer + 1, pro 0 virar 1 e 1 virar 2\n",
        "df_pred = pd.DataFrame({'y_true': y_test_idx + 1, 'y_pred': y_pred_idx + 1})\n",
        "\n",
        "# salvar as previsões em um arquivo CSV\n",
        "df_pred.to_csv('previsoes.csv', index=False)"
      ],
      "metadata": {
        "id": "RhJfi7b2WTsA"
      },
      "execution_count": null,
      "outputs": []
    },
    {
      "cell_type": "markdown",
      "source": [
        "# **ÁRVORE**\n"
      ],
      "metadata": {
        "id": "5zLm5Ty58Yo9"
      }
    },
    {
      "cell_type": "code",
      "source": [
        "#IMPORTS NECESSÁRIOS PARA ARVORE\n",
        "from sklearn.tree import DecisionTreeClassifier\n",
        "from sklearn.model_selection import train_test_split\n",
        "from sklearn.metrics import accuracy_score\n",
        "\n",
        "#CLONA DF_ENEM PARA CASO ACHA ALTERAÇÕES NO DATAFRAME PARA A ARVORE, EVITAR ALTERAÇÕES NO DATAFRAME ORIGINAL\n",
        "#ASSIM EVITANDO TER QUE RECARREGAR O DATAFRAME NOVAMENTE\n",
        "df_enem2 = df_enem\n",
        "\n",
        "#LIMITA PARA O SUDESTE (ACC80)\n",
        "#df_enem2 = df_enem2.drop(df_enem2.loc[df_enem['CO_UF_ESC'] != 3].index)\n",
        "#df_enem2.drop(['CO_UF_ESC'], axis=1, inplace=True)\n",
        "\n",
        "#DESMEMBRA DATASET CENTRAL EM DATASETS DE VARIAVEIS INDEPENDENTE E DEPENDENTE\n",
        "X, y = get_X_y(df_enem2)\n",
        "\n",
        "#SEPARA OS DATASETS DE VaI, VaD em datasets de treino e teste\n",
        "X_train, X_test, y_train, y_test = train_test_split(X, y, test_size=0.2, random_state=22)\n",
        "\n",
        "#CRIA CLASSIFIER DE ARVORE DECISÃO UTILIZANDO CRITÉRIO DE ENTROPIA\n",
        "dtc = DecisionTreeClassifier(random_state=22,\n",
        "                             criterion='entropy',\n",
        "                             min_samples_leaf=35,\n",
        "                             max_depth=None)\n",
        "\n",
        "#EXECUTA TREINO DO MODELO\n",
        "tst = dtc.fit(X_train, y_train)\n",
        "\n",
        "#EXECUTA A PREDIÇÃO\n",
        "y_pred = dtc.predict(X_test)\n",
        "\n",
        "# Calcular a acurácia\n",
        "accuracy = accuracy_score(y_test, y_pred)\n",
        "print(\"Acurácia: {:.2f}%\".format(accuracy * 100))"
      ],
      "metadata": {
        "id": "uynB_CAe8gro"
      },
      "execution_count": null,
      "outputs": []
    },
    {
      "cell_type": "code",
      "source": [
        "X"
      ],
      "metadata": {
        "id": "tazuKwBsb3Ab"
      },
      "execution_count": null,
      "outputs": []
    },
    {
      "cell_type": "code",
      "source": [
        "from sklearn.metrics import ConfusionMatrixDisplay\n",
        "import matplotlib.pyplot as plt\n",
        "ConfusionMatrixDisplay.from_estimator(tst, X_test, y_test, labels=[1, 2])\n",
        "plt.title(\"Matriz de Confusão: Arvores\")\n",
        "plt.show()"
      ],
      "metadata": {
        "colab": {
          "base_uri": "https://localhost:8080/",
          "height": 472
        },
        "id": "vOphhCo7h408",
        "outputId": "91b21f0d-ba25-4def-eeb5-13d5c73db05f"
      },
      "execution_count": 18,
      "outputs": [
        {
          "output_type": "display_data",
          "data": {
            "text/plain": [
              "<Figure size 640x480 with 2 Axes>"
            ],
            "image/png": "[encoded data removed]"
          },
          "metadata": {}
        }
      ]
    },
    {
      "cell_type": "code",
      "source": [
        "#GERAR REPRESENTAÇÃO GRÁFICA DA ÁRVORE\n",
        "import graphviz\n",
        "from sklearn import tree\n",
        "dtc_exg = tree.export_graphviz(dtc, out_file=None,\n",
        "                                feature_names=X.columns,\n",
        "                                class_names='NOTA_LC',\n",
        "                                filled=True, rounded=True,\n",
        "                                special_characters=True)\n",
        "\n",
        "dtc_gfx = graphviz.Source(dtc_exg)\n",
        "dtc_gfx.render(\"arvore_de_decisao\")"
      ],
      "metadata": {
        "id": "Cb9mNBHvQQvA"
      },
      "execution_count": null,
      "outputs": []
    },
    {
      "cell_type": "markdown",
      "source": [
        "# **RANDOM FOREST**"
      ],
      "metadata": {
        "id": "UC-O4UqFa-Zq"
      }
    },
    {
      "cell_type": "code",
      "source": [
        "from sklearn.ensemble import RandomForestClassifier\n",
        "from sklearn.model_selection import train_test_split\n",
        "from sklearn.metrics import accuracy_score\n",
        "\n",
        "#CLONA DF_ENEM PARA CASO ACHA ALTERAÇÕES NO DATAFRAME PARA A ARVORE, EVITAR ALTERAÇÕES NO DATAFRAME ORIGINAL\n",
        "#ASSIM EVITANDO TER QUE RECARREGAR O DATAFRAME NOVAMENTE\n",
        "df_enem2 = df_enem\n",
        "\n",
        "#LIMITA PARA O SUDESTE (ACC80)\n",
        "#df_enem2 = df_enem2.drop(df_enem2.loc[df_enem['CO_UF_ESC'] != 3].index)\n",
        "#df_enem2.drop(['CO_UF_ESC'], axis=1, inplace=True)\n",
        "\n",
        "#DESMEMBRA DATASET CENTRAL EM DATASETS DE VARIAVEIS INDEPENDENTE E DEPENDENTE\n",
        "X, y = get_X_y(df_enem2)\n",
        "\n",
        "# Carregar os dados de treinamento e teste\n",
        "X_train, X_test, y_train, y_test = train_test_split(X, y, test_size=0.20, random_state=22)\n",
        "\n",
        "# Criar o classificador Random Forest\n",
        "clf = RandomForestClassifier(n_estimators=200,\n",
        "                             criterion='entropy',\n",
        "                             min_samples_leaf=35,\n",
        "                             max_depth=None)\n",
        "\n",
        "# Treinar o classificador\n",
        "clf.fit(X_train, y_train)\n",
        "\n",
        "# Fazer a predição\n",
        "y_pred = clf.predict(X_test)\n",
        "\n",
        "# Calcular a acurácia\n",
        "accuracy = accuracy_score(y_test, y_pred)\n",
        "print(\"Acurácia: {:.2f}%\".format(accuracy * 100))"
      ],
      "metadata": {
        "id": "Pc3T3E1kbBZO"
      },
      "execution_count": null,
      "outputs": []
    },
    {
      "cell_type": "markdown",
      "source": [
        "# **Gradient Boosting**"
      ],
      "metadata": {
        "id": "ySSsLgAUC4Ux"
      }
    },
    {
      "cell_type": "code",
      "source": [
        "#IMPORTS NECESSÁRIOS PARA GRADIENT BOOSTING\n",
        "from sklearn.ensemble import GradientBoostingClassifier\n",
        "from sklearn.model_selection import train_test_split\n",
        "from sklearn.metrics import accuracy_score\n",
        "\n",
        "#CLONA DF_ENEM PARA CASO ACHA ALTERAÇÕES NO DATAFRAME PARA O GRADIENT BOOSTING, EVITAR ALTERAÇÕES NO DATAFRAME ORIGINAL\n",
        "df_enem2 = df_enem.copy()\n",
        "\n",
        "#LIMITA PARA O SUDESTE (ACC80)\n",
        "#df_enem2 = df_enem2.drop(df_enem2.loc[df_enem['CO_UF_ESC'] != 3].index)\n",
        "#df_enem2.drop(['CO_UF_ESC'], axis=1, inplace=True)\n",
        "\n",
        "#DESMEMBRA DATASET CENTRAL EM DATASETS DE VARIAVEIS INDEPENDENTE E DEPENDENTE\n",
        "X, y = get_X_y(df_enem2)\n",
        "\n",
        "#SEPARA OS DATASETS DE VaI, VaD em datasets de treino e teste\n",
        "X_train, X_test, y_train, y_test = train_test_split(X, y, test_size=0.2, random_state=22)\n",
        "\n",
        "#CRIA CLASSIFIER DE GRADIENT BOOSTING\n",
        "gbc = GradientBoostingClassifier(random_state=22,\n",
        "                                 min_samples_leaf=35,\n",
        "                                 max_depth=None)\n",
        "\n",
        "#EXECUTA TREINO DO MODELO\n",
        "gbc.fit(X_train, y_train)\n",
        "\n",
        "#EXECUTA A PREDIÇÃO\n",
        "y_pred = gbc.predict(X_test)\n",
        "\n",
        "# Calcular a acurácia\n",
        "accuracy = accuracy_score(y_test, y_pred)\n",
        "print(\"Acurácia: {:.2f}%\".format(accuracy * 100))\n"
      ],
      "metadata": {
        "id": "i1eMxd7AC8Uw"
      },
      "execution_count": null,
      "outputs": []
    },
    {
      "cell_type": "markdown",
      "source": [
        "# **ANÁLISE DE PERFORMANCE DOS ALGORITMOS**"
      ],
      "metadata": {
        "id": "8OQ11V-Linl8"
      }
    },
    {
      "cell_type": "code",
      "source": [
        "#ACURACIA MODELOS - BRASIL - LC - COLUNA MÉDIA (SEM UTILIZAR COLUNAS INDIVIDUAIS PARA NOTAS CATEGORIZADAS)\n",
        "\n",
        "# RANDOM FOREST ------------- 82.64%\n",
        "# REDE NEURAL - KERAS ------- 82.37%\n",
        "# ARVORE -------------------- 81.97%\n",
        "# GRADIENT BOOSTING ---------  N/A\n",
        "# REDE NEURAL - SCIKIT ------  N/A\n",
        "# KNN -----------------------  N/A\n",
        "# REGRESSÃO LINEAR ----------  N/A\n",
        "# SVM ------------------------ N/A\n",
        "\n",
        "#ACURACIA MODELOS - BRASIL - LC - SEM COLUNA MÉDIA\n",
        "\n",
        "# RANDOM FOREST ------------- 78.51%\n",
        "# REDE NEURAL - KERAS ------- 78.50%\n",
        "# ARVORE -------------------- 78.43%\n",
        "# GRADIENT BOOSTING --------- 78.30%\n",
        "# REDE NEURAL - SCIKIT ------ 78.20%\n",
        "# KNN ----------------------- 76,75%\n",
        "# REGRESSÃO LINEAR ---------- 21,79%\n",
        "# SVM ------------------------ N/A\n",
        "\n",
        "#ACURACIA MODELOS - SUDESTE - LC - SEM COLUNA MÉDIA\n",
        "\n",
        "# RANDOM FOREST ------------- 80.18%\n",
        "# GRADIENT BOOSTING --------- 80.13%\n",
        "# ARVORE -------------------- 80.12%\n",
        "# REDE NEURAL - KERAS ------- 79.90%\n",
        "# REDE NEURAL - SCIKIT ------ 79.87%\n",
        "# KNN ----------------------- 77.87%\n",
        "# REGRESSÃO LINEAR ----------- N/A\n",
        "# SVM ------------------------ N/A\n",
        "\n",
        "#ACURACIA MODELOS - SUDESTE - CH - SEM COLUNA MÉDIA\n",
        "\n",
        "# RANDOM FOREST ------------- 82.23%\n",
        "# ARVORE -------------------- 82.20%\n",
        "# GRADIENT BOOSTING --------- 82.10%\n",
        "# KNN ----------------------- 81.05%\n",
        "# REDE NEURAL - KERAS -------- N/A\n",
        "# REDE NEURAL - SCIKIT ------- N/A\n",
        "# REGRESSÃO LINEAR ----------- N/A\n",
        "# SVM ------------------------ N/A"
      ],
      "metadata": {
        "id": "-QAn_uJCjl-I"
      },
      "execution_count": null,
      "outputs": []
    }
  ],
  "metadata": {
    "colab": {
      "provenance": [],
      "collapsed_sections": [
        "ynXTOigU_iRM",
        "P77j1_nuMLM0",
        "UC-O4UqFa-Zq"
      ]
    },
    "kernelspec": {
      "display_name": "Python 3",
      "name": "python3"
    },
    "language_info": {
      "name": "python"
    }
  },
  "nbformat": 4,
  "nbformat_minor": 0
}